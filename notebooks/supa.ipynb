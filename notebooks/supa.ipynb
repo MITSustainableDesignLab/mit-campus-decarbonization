{
 "cells": [
  {
   "cell_type": "code",
   "execution_count": null,
   "metadata": {},
   "outputs": [],
   "source": [
    "from supabase import create_client\n",
    "from supabase.lib.client_options import ClientOptions\n",
    "import os\n",
    "\n",
    "client_options = ClientOptions(postgrest_client_timeout=60)\n",
    "client = create_client(supabase_url=os.getenv('SUPABASE_URL'), supabase_key=os.getenv('SUPABASE_SERVICE_ROLE_KEY'), options=client_options)"
   ]
  },
  {
   "cell_type": "code",
   "execution_count": null,
   "metadata": {},
   "outputs": [],
   "source": [
    "client.table('Building').insert({\"name\": \"test\", \"gfa\": 1000,}).execute()\n",
    "client.table(\"DesignVector\").insert({\"name\": \"testdesign\"}).execute()\n",
    "client.table(\"DemandScenario\").insert({\"name\": \"testdemand\"}).execute()"
   ]
  },
  {
   "cell_type": "code",
   "execution_count": null,
   "metadata": {},
   "outputs": [],
   "source": [
    "client.table(\"DemandScenarioBuilding\").insert({\"demand_scenario_id\": 1, \"building_id\": 1, \"design_vector_id\": 1}).execute()"
   ]
  },
  {
   "cell_type": "code",
   "execution_count": null,
   "metadata": {},
   "outputs": [],
   "source": [
    "import numpy as np\n",
    "client.table(\"BuildingSimulationResult\").insert({\n",
    "\t\"id\": 1,\n",
    "\t\"heating\": np.random.rand(8760).tolist(),\n",
    "\t\"cooling\": np.random.rand(8760).tolist(),\n",
    "\t\"lighting\": np.random.rand(8760).tolist(),\n",
    "\t\"equipment\": np.random.rand(8760).tolist(),\n",
    "\t\"pumps\": np.random.rand(8760).tolist(),\n",
    "\t\"fans\": np.random.rand(8760).tolist(),\n",
    "\t\"water\": np.random.rand(8760).tolist(),\n",
    "\t\"misc\": np.random.rand(8760).tolist(),\n",
    "\n",
    "}).execute()"
   ]
  },
  {
   "cell_type": "code",
   "execution_count": null,
   "metadata": {},
   "outputs": [],
   "source": [
    "res = client.table(\"BuildingSimulationResult\").select(\"*\").execute()\n",
    "import json\n",
    "np.array(json.loads(res.data[0][\"heating\"])).shape"
   ]
  },
  {
   "cell_type": "code",
   "execution_count": null,
   "metadata": {},
   "outputs": [],
   "source": [
    "from pydantic import BaseModel, Field, validate_call\n",
    "from datetime import datetime\n",
    "\n",
    "class BuildingBase(BaseModel, extra=\"forbid\"):\n",
    "   name: str = Field(..., description=\"Name of the building\")\n",
    "   gfa: float = Field(..., gt=100, description=\"Gross Floor Area of the building, m2\")\n",
    "\n",
    "class Building(BuildingBase):\n",
    "   id: int = Field(..., description=\"Unique identifier for the building\")\n",
    "   created_at: str = Field(..., description=\"Timestamp of the creation of the building\")\n",
    "\n",
    "   @classmethod\n",
    "   def get(cls, id: int):\n",
    "      building = client.table(\"Building\").select(\"*\").eq(\"id\", id).execute()\n",
    "      if len(building.data) == 0:\n",
    "         raise ValueError(f\"Building with id {id} not found\")\n",
    "\n",
    "      return cls(**building.data[0])\n",
    "   \n",
    "   @classmethod\n",
    "   @validate_call()\n",
    "   def create(cls, building: BuildingBase):\n",
    "      building = client.table(\"Building\").insert(building.model_dump()).execute()\n",
    "      return cls(**building.data[0])\n",
    "\n",
    "   \n",
    "   def commit(self):\n",
    "      client.table(\"Building\").upsert(self.model_dump()).execute()\n",
    "  "
   ]
  },
  {
   "cell_type": "code",
   "execution_count": null,
   "metadata": {},
   "outputs": [],
   "source": [
    " \n",
    "\n",
    "building = Building.get(1)\n",
    "building.gfa = 2000\n",
    "building.commit()\n",
    "\n",
    "building = Building.create({\"name\": \"test2\", \"gfa\": 3000})\n",
    "building.id"
   ]
  },
  {
   "cell_type": "code",
   "execution_count": null,
   "metadata": {},
   "outputs": [],
   "source": [
    "from pydantic import model_validator\n",
    "from typing import Optional\n",
    "import pandas as pd\n",
    "import numpy as np\n",
    "class BuildingSimulationResult(BaseModel, arbitrary_types_allowed=True, extra=\"forbid\"):\n",
    "    id: int\n",
    "    created_at: Optional[str] = Field(None, description=\"Timestamp of the creation of the record\")\n",
    "    heating: np.ndarray\n",
    "    cooling: np.ndarray\n",
    "    lighting: np.ndarray\n",
    "    equipment: np.ndarray\n",
    "    pumps: np.ndarray\n",
    "    fans: np.ndarray\n",
    "    water: np.ndarray\n",
    "    misc: np.ndarray\n",
    "\n",
    "    # set up all np.ndarrays to serialize to list\n",
    "    class Config:\n",
    "        json_encoders = {\n",
    "            np.ndarray: lambda v: v.tolist()\n",
    "        }\n",
    "    \n",
    "    \n",
    "    @property\n",
    "    def building_id(self):\n",
    "        res = client.table(\"DemandScenarioBuilding\").select(\"building_id\").eq(\"id\", self.id).execute()\n",
    "        return res.data[0].get(\"building_id\")\n",
    "    \n",
    "    @property\n",
    "    def demand_scenario_id(self):\n",
    "        res = client.table(\"DemandScenarioBuilding\").select(\"demand_scenario_id\").eq(\"id\", self.id).execute()\n",
    "        return res.data[0].get(\"demand_scenario_id\")\n",
    "    \n",
    "    @property\n",
    "    def design_vector_id(self):\n",
    "        res = client.table(\"DemandScenarioBuilding\").select(\"design_vector_id\").eq(\"id\", self.id).execute()\n",
    "        return res.data[0].get(\"design_vector_id\")\n",
    "    \n",
    "\n",
    "\n",
    "    @model_validator(mode=\"before\")\n",
    "    def cast_fields_to_numpy(cls, v):\n",
    "        for key in v:\n",
    "            if cls.model_fields[key].annotation == np.ndarray:\n",
    "                if type(v[key]) == list:\n",
    "                    v[key] = np.array(v[key])\n",
    "                elif type(v[key]) == str:\n",
    "                    v[key] = np.array(json.loads(v[key]))\n",
    "                elif type(v[key]) == pd.Series:\n",
    "                    v[key] = v[key].values\n",
    "                else:\n",
    "                    pass\n",
    "\n",
    "                assert v[key].shape == (8760,), f\"Field {key} must have shape (8760,) but has shape {v[key].shape}\"\n",
    "        return v\n",
    "\n",
    "    @classmethod\n",
    "    def get(cls, id: int):\n",
    "        res = client.table(\"BuildingSimulationResult\").select(\"*\").eq(\"id\", id).execute()\n",
    "        if len(res.data) == 0:\n",
    "            raise ValueError(f\"BuildingSimulationResult with id {id} not found\")\n",
    "\n",
    "        return cls(**res.data[0])\n",
    "    \n",
    "    def to_df(self) -> pd.DataFrame:\n",
    "        df = pd.DataFrame({\n",
    "            \"heating\": self.heating,\n",
    "            \"cooling\": self.cooling,\n",
    "            \"lighting\": self.lighting,\n",
    "            \"equipment\": self.equipment,\n",
    "            \"pumps\": self.pumps,\n",
    "            \"fans\": self.fans,\n",
    "            \"water\": self.water,\n",
    "            \"misc\": self.misc,\n",
    "        }, index=pd.date_range(start=\"2024-01-01 00:00:00\", periods=8760, freq=\"H\", name=\"timestep\") )\n",
    "        df = df.set_index(pd.Series([self.id]*8760, name=\"building_id\"), append=True, )\n",
    "        raise ValueError(\"Not finished implementing; decide on multiindex!\")\n",
    "        df = df.unstack(level=\"timestep\")\n",
    "        return df\n",
    "    \n",
    "    # def from_df(self, df: pd.DataFrame):\n",
    "    #     series = df.loc[self.id]\n",
    "    #     self.heating = series.heating.values\n",
    "    #     self.cooling = series.cooling.values\n",
    "    #     self.lighting = series.lighting.values\n",
    "    #     self.equipment = series.equipment.values\n",
    "    #     self.pumps = series.pumps.values\n",
    "    #     self.fans = series.fans.values\n",
    "    #     self.water = series.water.values\n",
    "    #     self.misc = series.misc.values\n",
    "\n",
    "    def commit(self):\n",
    "        client.table(\"BuildingSimulationResult\").upsert(self.model_dump(mode=\"json\", exclude=[\"created_at\"])).execute()\n"
   ]
  },
  {
   "cell_type": "code",
   "execution_count": null,
   "metadata": {},
   "outputs": [],
   "source": [
    "\n",
    "building_result = BuildingSimulationResult.get(1).to_df()\n",
    "building_result[\"heating\"] = 1\n",
    "building_r = BuildingSimulationResult.get(1)\n",
    "building_r.from_df(building_result)\n",
    "building_r.commit()"
   ]
  },
  {
   "cell_type": "code",
   "execution_count": null,
   "metadata": {},
   "outputs": [],
   "source": [
    "# create 200 buildings\n",
    "for i in range(2, 201):\n",
    "\tbuilding = Building.create({\"name\": f\"test{i}\", \"gfa\": 1000})\n",
    "\tres = client.table(\"DemandScenarioBuilding\").insert({\"demand_scenario_id\": 1, \"building_id\": building.id, \"design_vector_id\": 1}).execute()\n",
    "\tds_id = res.data[0][\"id\"]\n",
    "\tsim_result = BuildingSimulationResult(id=building.id, heating=np.random.rand(8760), cooling=np.random.rand(8760), lighting=np.random.rand(8760), equipment=np.random.rand(8760), pumps=np.random.rand(8760), fans=np.random.rand(8760), water=np.random.rand(8760), misc=np.random.rand(8760))\n",
    "\tsim_result.commit()"
   ]
  },
  {
   "cell_type": "code",
   "execution_count": null,
   "metadata": {},
   "outputs": [],
   "source": [
    "res = client.table(\"BuildingSimulationResult\").select(\"*\").execute()\n",
    "buildings = []\n",
    "for row in res.data:\n",
    "\tbuilding = BuildingSimulationResult(**row)\n",
    "\tbuildings.append(building.to_df())\n",
    "buildings = pd.concat(buildings,axis=0)"
   ]
  },
  {
   "cell_type": "code",
   "execution_count": null,
   "metadata": {},
   "outputs": [],
   "source": []
  }
 ],
 "metadata": {
  "kernelspec": {
   "display_name": "campus-decarb",
   "language": "python",
   "name": "python3"
  },
  "language_info": {
   "codemirror_mode": {
    "name": "ipython",
    "version": 3
   },
   "file_extension": ".py",
   "mimetype": "text/x-python",
   "name": "python",
   "nbconvert_exporter": "python",
   "pygments_lexer": "ipython3",
   "version": "3.9.18"
  }
 },
 "nbformat": 4,
 "nbformat_minor": 2
}
